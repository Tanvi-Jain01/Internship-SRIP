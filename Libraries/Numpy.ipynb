{
 "cells": [
  {
   "cell_type": "markdown",
   "id": "7b8626a1",
   "metadata": {},
   "source": [
    "**Why is NumPy Faster Than Lists?**  \n",
    "NumPy arrays are stored at one continuous place in memory unlike lists, so processes can access and manipulate them very efficiently. This behavior is called the locality of reference in computer science. This is the main reason why NumPy is faster than lists. Also, it is optimized to work with the latest CPU architectures.\n",
    "\n",
    "**Which Language is NumPy Written In?**  \n",
    "NumPy is a Python library and is written partially in Python, but most of the parts that require fast computation are written in C or C++.  \n"
   ]
  },
  {
   "cell_type": "code",
   "execution_count": 10,
   "id": "8476d880",
   "metadata": {},
   "outputs": [
    {
     "name": "stdout",
     "output_type": "stream",
     "text": [
      "1.23.5\n"
     ]
    }
   ],
   "source": [
    "import numpy as np\n",
    "\n",
    "print(np.__version__)"
   ]
  },
  {
   "cell_type": "markdown",
   "id": "9eb85946",
   "metadata": {},
   "source": [
    "NumPy is used to work with arrays. The array object in NumPy is called ndarray.  \n",
    "We can create a NumPy `ndarray` object by using the `array()` function.\n",
    "\n",
    "To create an `ndarray`, we can pass a list, tuple or any array-like object into the `array()` method, and it will be converted into an ndarray:  "
   ]
  },
  {
   "cell_type": "code",
   "execution_count": 12,
   "id": "870ab02f",
   "metadata": {},
   "outputs": [
    {
     "name": "stdout",
     "output_type": "stream",
     "text": [
      "<class 'numpy.ndarray'>\n",
      "list to ndarray [1 2 3 4 5]\n",
      "tuple to ndarray [1 2 3 4 5]\n"
     ]
    }
   ],
   "source": [
    "arr = numpy.array([1, 2, 3, 4, 5])\n",
    "print(type(arr))\n",
    "print('list to ndarray',arr)\n",
    "\n",
    "arr = np.array((1, 2, 3, 4, 5))\n",
    "print('tuple to ndarray',arr)"
   ]
  },
  {
   "cell_type": "markdown",
   "id": "ad0a6a15",
   "metadata": {},
   "source": [
    "**Dimensions in Arrays**  \n",
    "A dimension in arrays is one level of array depth (nested arrays).  \n",
    "**nested array: are arrays that have arrays as their elements.**\n",
    "\n",
    "**Access Array Elements**\n",
    "Array indexing is the same as accessing an array element.  \n",
    "Think of 2-D arrays like a table with rows and columns, where the dimension represents the row and the index represents the column.  \n",
    "To access elements from 3-D arrays we can use comma separated integers representing the dimensions and the index of the element.\n",
    "\n"
   ]
  },
  {
   "cell_type": "code",
   "execution_count": 20,
   "id": "d4d1b4da",
   "metadata": {},
   "outputs": [
    {
     "name": "stdout",
     "output_type": "stream",
     "text": [
      "0 42\n",
      "1 [1 2 3 4 5]\n",
      "2 [[1 2 3]\n",
      " [4 5 6]]\n",
      "3 [[[1 2 3]\n",
      "  [4 5 6]]\n",
      "\n",
      " [[1 2 3]\n",
      "  [4 5 6]]]\n",
      "7\n",
      "6\n",
      "6\n",
      "Last element from 2nd dim:  6\n"
     ]
    }
   ],
   "source": [
    "a = np.array(42)\n",
    "b = np.array([1, 2, 3, 4, 5])\n",
    "c = np.array([[1, 2, 3], [4, 5, 6]])\n",
    "d = np.array([[[1, 2, 3], [4, 5, 6]], [[1, 2, 3], [4, 5, 6]]])\n",
    "\n",
    "print(a.ndim, a)\n",
    "print(b.ndim, b)\n",
    "print(c.ndim, c)\n",
    "print(d.ndim, d)\n",
    "\n",
    "\n",
    "print(b[2] + b[3])\n",
    "print(c[1, 2])\n",
    "print(d[0, 1, 2])\n",
    "\n",
    "print('Last element from 2nd dim: ', c[1, -1])\n"
   ]
  },
  {
   "cell_type": "markdown",
   "id": "6f3322c8",
   "metadata": {},
   "source": [
    "In this array the innermost dimension (5th dim) has 4 elements, the 4th dim has 1 element that is the vector, the 3rd dim has 1 element that is the matrix with the vector, the 2nd dim has 1 element that is 3D array and 1st dim has 1 element that is a 4D array."
   ]
  },
  {
   "cell_type": "code",
   "execution_count": 16,
   "id": "99077cfd",
   "metadata": {},
   "outputs": [
    {
     "name": "stdout",
     "output_type": "stream",
     "text": [
      "[[[[[1 2 3 4]]]]]\n",
      "number of dimensions : 5\n"
     ]
    }
   ],
   "source": [
    "arr = np.array([1, 2, 3, 4], ndmin=5)\n",
    "\n",
    "print(arr)\n",
    "print('number of dimensions :', arr.ndim)"
   ]
  },
  {
   "cell_type": "markdown",
   "id": "3f25af1a",
   "metadata": {},
   "source": [
    "**Slicing arrays**\n",
    "Slicing in python means taking elements from one given index to another given index.  \n",
    "\n",
    "We pass slice instead of index like this: [start:end].  \n",
    "\n",
    "We can also define the step, like this: [start:end:step].  \n",
    "\n",
    "If we don't pass start its considered 0  \n",
    "If we don't pass end its considered length of array in that dimension  \n",
    "If we don't pass step its considered 1  "
   ]
  },
  {
   "cell_type": "code",
   "execution_count": 33,
   "id": "cf21b655",
   "metadata": {},
   "outputs": [
    {
     "name": "stdout",
     "output_type": "stream",
     "text": [
      "[2 3 4 5]\n",
      "[5 6 7]\n",
      "[5 6]\n",
      "[2 4]\n",
      "[1 3 5 7]\n",
      "[7 8 9]\n",
      "[3 8]\n",
      "[[2 3 4]\n",
      " [7 8 9]]\n"
     ]
    }
   ],
   "source": [
    "arr = np.array([1, 2, 3, 4, 5, 6, 7])\n",
    "\n",
    "print(arr[1:5])# end is excluded\n",
    "print(arr[4:])\n",
    "print(arr[-3:-1])#Slice from the index 3 from the end to index 1 from the end\n",
    "\n",
    "\n",
    "print(arr[1:5:2])#every second element(step)\n",
    "print(arr[::2])#return every 2nd element than \n",
    "\n",
    "#slice 2-D arrays\n",
    "arr = np.array([[1, 2, 3, 4, 5], [6, 7, 8, 9, 10]])\n",
    "print(arr[1, 1:4])\n",
    "print(arr[0:2, 2]) #take dimension=0,1 and give 2nd index element which is 3,8\n",
    "print(arr[0:2, 1:4])"
   ]
  },
  {
   "cell_type": "markdown",
   "id": "cccc07ea",
   "metadata": {},
   "source": [
    "**Data Types in NumPy**  \n",
    "NumPy has some extra data types, and refer to data types with one character, like i for integers, u for unsigned integers etc.\n",
    "\n",
    "Below is a list of all data types in NumPy and the characters used to represent them.\n",
    "\n",
    "i - integer  \n",
    "b - boolean  \n",
    "u - unsigned integer  \n",
    "f - float  \n",
    "c - complex float  \n",
    "m - timedelta  \n",
    "M - datetime  \n",
    "O - object  \n",
    "S - string  \n",
    "U - unicode string  \n",
    "V - fixed chunk of memory for other type ( void )  \n",
    "\n",
    "We use the `array()` function to create arrays, this function can take an optional argument: `dtype` that allows us to define the expected data type of the array elements  \n",
    "\n",
    "**Converting Data Type on Existing Arrays**\n",
    "The best way to change the data type of an existing array, is to make a copy of the array with the astype() method.  \n",
    "The `astype()` function creates a copy of the array, and allows you to specify the data type as a parameter.\n",
    "The data type can be specified using a string, like 'f' for float, 'i' for integer etc. or you can use the data type directly like float for float and int for integer."
   ]
  },
  {
   "cell_type": "code",
   "execution_count": 45,
   "id": "37a1a342",
   "metadata": {},
   "outputs": [
    {
     "name": "stdout",
     "output_type": "stream",
     "text": [
      "[b'1' b'2' b'3' b'4' b'4']\n",
      "|S1\n",
      "int32\n",
      "['1' '2' '3' '4' '5']\n",
      "<U11\n",
      "[1. 2. 3. 4. 5.]\n",
      "float32\n",
      "[ True  True  True  True  True]\n",
      "bool\n",
      "<U6\n"
     ]
    }
   ],
   "source": [
    "arr = np.array([1, 2, 3, 4,5], dtype='S')\n",
    "print(arr)\n",
    "print(arr.dtype)\n",
    "\n",
    "arr = np.array([1, 2, 3, 4,5])\n",
    "print(arr.dtype)\n",
    "\n",
    "newarr = arr.astype('U')\n",
    "print(newarr)\n",
    "print(newarr.dtype)\n",
    "\n",
    "newarr = arr.astype('f')\n",
    "print(newarr)\n",
    "print(newarr.dtype)\n",
    "\n",
    "newarr = arr.astype(bool)\n",
    "print(newarr)\n",
    "print(newarr.dtype)\n",
    "\n",
    "\n",
    "\n",
    "arr = np.array(['apple', 'banana', 'cherry'])\n",
    "print(arr.dtype)\n",
    "\n"
   ]
  },
  {
   "cell_type": "markdown",
   "id": "168fe02c",
   "metadata": {},
   "source": [
    "**The Difference Between Copy and View**  \n",
    "The main difference between a copy and a view of an array is that the copy is a new array, and the view is just a view of the original array.\n",
    "\n",
    "  The copy owns the data and any changes made to the copy will not affect original array, and any changes made to the original array will not affect the copy.\n",
    "\n",
    "  The view does not own the data and any changes made to the view will affect the original array, and any changes made to the original array will affect the view.\n",
    "\n",
    "\n",
    "**Check if Array Owns its Data**  \n",
    "As mentioned above, copies owns the data, and views does not own the data, but how can we check this?\n",
    "\n",
    "Every NumPy array has the attribute base that returns `None` if the array owns the data.\n",
    "\n",
    "Otherwise, the `base`  attribute refers to the original object.\n",
    "\n",
    "The copy returns `None.`\n",
    "The view returns the original array."
   ]
  },
  {
   "cell_type": "code",
   "execution_count": 51,
   "id": "dca0bef2",
   "metadata": {},
   "outputs": [
    {
     "name": "stdout",
     "output_type": "stream",
     "text": [
      "[42  2  3  4  5]\n",
      "[1 2 3 4 5]\n",
      "[31  2  3  4  5]\n",
      "[31  2  3  4  5]\n",
      "None\n",
      "[31  2  3  4  5]\n"
     ]
    }
   ],
   "source": [
    "arr = np.array([1, 2, 3, 4, 5])\n",
    "\n",
    "x = arr.copy()\n",
    "y = arr.view()\n",
    "\n",
    "arr[0] = 42\n",
    "print(arr)\n",
    "print(x)\n",
    "\n",
    "arr[0] = 31\n",
    "print(arr)\n",
    "print(y)\n",
    "\n",
    "print(x.base)\n",
    "print(y.base)"
   ]
  },
  {
   "cell_type": "markdown",
   "id": "fc5f3443",
   "metadata": {},
   "source": [
    "**Get the Shape of an Array**  \n",
    "NumPy arrays have an attribute called shape that returns a tuple with each index having the number of corresponding elements.   \n",
    "**What does the shape tuple represent?**\n",
    "Integers at every index tells about the number of elements the corresponding dimension has.\n",
    "In the example at index-4 we have value 4, so we can say that 5th ( 4 + 1 th) dimension has 4 elements."
   ]
  },
  {
   "cell_type": "code",
   "execution_count": 53,
   "id": "261db622",
   "metadata": {},
   "outputs": [
    {
     "name": "stdout",
     "output_type": "stream",
     "text": [
      "(2, 4)\n",
      "[[[[[1 2 3 4]]]]]\n",
      "shape of array : (1, 1, 1, 1, 4)\n"
     ]
    }
   ],
   "source": [
    "arr = np.array([[1, 2, 3, 4], [5, 6, 7, 8]])\n",
    "print(arr.shape)\n",
    "\n",
    "\n",
    "arr = np.array([1, 2, 3, 4], ndmin=5)\n",
    "print(arr)\n",
    "print('shape of array :', arr.shape)"
   ]
  },
  {
   "cell_type": "markdown",
   "id": "d339adf7",
   "metadata": {},
   "source": [
    "**Reshaping arrays**\n",
    "Reshaping means changing the shape of an array.\n",
    "The shape of an array is the number of elements in each dimension.\n",
    "By reshaping we can add or remove dimensions or change number of elements in each dimension."
   ]
  },
  {
   "cell_type": "code",
   "execution_count": 58,
   "id": "f4384c7f",
   "metadata": {},
   "outputs": [
    {
     "name": "stdout",
     "output_type": "stream",
     "text": [
      "[[ 1  2  3]\n",
      " [ 4  5  6]\n",
      " [ 7  8  9]\n",
      " [10 11 12]]\n",
      "(4, 3)\n",
      "[[[ 1  2]\n",
      "  [ 3  4]\n",
      "  [ 5  6]]\n",
      "\n",
      " [[ 7  8]\n",
      "  [ 9 10]\n",
      "  [11 12]]]\n",
      "(2, 3, 2)\n"
     ]
    }
   ],
   "source": [
    "arr = np.array([1, 2, 3, 4, 5, 6, 7, 8, 9, 10, 11, 12])\n",
    "newarr = arr.reshape(4, 3)\n",
    "print(newarr)\n",
    "print(newarr.shape)\n",
    "\n",
    "\n",
    "newarr = arr.reshape(2, 3, 2)\n",
    "print(newarr)\n",
    "print(newarr.shape)"
   ]
  },
  {
   "cell_type": "markdown",
   "id": "6cbb56a5",
   "metadata": {},
   "source": [
    "**Unknown Dimension**\n",
    "You are allowed to have one \"unknown\" dimension.\n",
    "Meaning that you do not have to specify an exact number for one of the dimensions in the reshape method.\n",
    "Pass -1 as the value, and NumPy will calculate this number for you.\n",
    "\n",
    "Note: We can not pass -1 to more than one dimension."
   ]
  },
  {
   "cell_type": "code",
   "execution_count": 59,
   "id": "cf19a91e",
   "metadata": {},
   "outputs": [
    {
     "name": "stdout",
     "output_type": "stream",
     "text": [
      "[[[1 2]\n",
      "  [3 4]]\n",
      "\n",
      " [[5 6]\n",
      "  [7 8]]]\n"
     ]
    }
   ],
   "source": [
    "arr = np.array([1, 2, 3, 4, 5, 6, 7, 8])\n",
    "newarr = arr.reshape(2, 2, -1)\n",
    "print(newarr)"
   ]
  },
  {
   "cell_type": "markdown",
   "id": "d0fe18ec",
   "metadata": {},
   "source": [
    "**Flattening the arrays**\n",
    "Flattening array means converting a multidimensional array into a 1D array.\n",
    "\n",
    "We can use reshape(-1) to do this."
   ]
  },
  {
   "cell_type": "code",
   "execution_count": 60,
   "id": "e245b1cc",
   "metadata": {},
   "outputs": [
    {
     "name": "stdout",
     "output_type": "stream",
     "text": [
      "[1 2 3 4 5 6]\n"
     ]
    }
   ],
   "source": [
    "arr = np.array([[1, 2, 3], [4, 5, 6]])\n",
    "newarr = arr.reshape(-1)\n",
    "print(newarr)"
   ]
  },
  {
   "cell_type": "markdown",
   "id": "a340e177",
   "metadata": {},
   "source": [
    "**The function nditer()** is a helping function that can be used from very basic to very advanced iterations. It solves some basic issues which we face in iteration, lets go through it with examples.\n",
    "\n",
    "**Iterating on Each Scalar Element**\n",
    "In basic for loops, iterating through each scalar of an array we need to use n for loops which can be difficult to write for arrays with very high dimensionality.\n",
    "\n",
    "**Enumeration:** mentioning sequence number of somethings one by one.\n",
    "\n",
    "Sometimes we require corresponding index of the element while iterating, the ndenumerate() method can be used for those usecases."
   ]
  },
  {
   "cell_type": "code",
   "execution_count": 74,
   "id": "508c5b52",
   "metadata": {},
   "outputs": [
    {
     "name": "stdout",
     "output_type": "stream",
     "text": [
      "[[[1 2]\n",
      "  [3 4]]\n",
      "\n",
      " [[5 6]\n",
      "  [7 8]]]\n",
      "1\n",
      "2\n",
      "3\n",
      "4\n",
      "5\n",
      "6\n",
      "7\n",
      "8\n",
      "1\n",
      "2\n",
      "3\n",
      "4\n",
      "5\n",
      "6\n",
      "7\n",
      "8\n",
      "1\n",
      "2\n",
      "5\n",
      "6\n",
      "(0, 0, 0) 1\n",
      "(0, 0, 1) 2\n",
      "(0, 1, 0) 3\n",
      "(0, 1, 1) 4\n",
      "(1, 0, 0) 5\n",
      "(1, 0, 1) 6\n",
      "(1, 1, 0) 7\n",
      "(1, 1, 1) 8\n"
     ]
    }
   ],
   "source": [
    "\n",
    "arr = np.array([[[1, 2], [3, 4]], [[5, 6], [7, 8]]])\n",
    "print(arr)\n",
    "for x in arr:\n",
    "  for y in x:\n",
    "    for z in y:\n",
    "      print(z)\n",
    "\n",
    "for x in np.nditer(arr):\n",
    "  print(x)\n",
    "\n",
    "for x in np.nditer(arr[:, ::2]):\n",
    "  print(x)\n",
    "\n",
    "\n",
    "for idx, x in np.ndenumerate(arr):\n",
    "  print(idx, x)"
   ]
  },
  {
   "cell_type": "markdown",
   "id": "f09b4d4e",
   "metadata": {},
   "source": [
    "We pass a sequence of arrays that we want to join to the `concatenate()` function, along with the axis. If axis is not explicitly passed, it is taken as 0.\n",
    "\n",
    "**Joining Arrays Using Stack Functions**\n",
    "Stacking is same as concatenation, the only difference is that stacking is done along a new axis.\n",
    "\n",
    "We can concatenate two 1-D arrays along the second axis which would result in putting them one over the other, ie. stacking.\n",
    "\n",
    "We pass a sequence of arrays that we want to join to the stack() method along with the axis. If axis is not explicitly passed it is taken as 0."
   ]
  },
  {
   "cell_type": "code",
   "execution_count": 69,
   "id": "ebe8dd83",
   "metadata": {},
   "outputs": [
    {
     "name": "stdout",
     "output_type": "stream",
     "text": [
      "[1 2 3 4 5 6]\n",
      "[[1 2 5 6]\n",
      " [3 4 7 8]]\n",
      "[[1 4]\n",
      " [2 5]\n",
      " [3 6]]\n",
      "[1 2 3 4 5 6]\n",
      "[[1 2 3]\n",
      " [4 5 6]]\n",
      "[[[1 4]\n",
      "  [2 5]\n",
      "  [3 6]]]\n"
     ]
    }
   ],
   "source": [
    "\n",
    "arr1 = np.array([1, 2, 3])\n",
    "arr2 = np.array([4, 5, 6])\n",
    "arr = np.concatenate((arr1, arr2))\n",
    "print(arr)\n",
    "\n",
    "\n",
    "arr1 = np.array([[1, 2], [3, 4]])\n",
    "arr2 = np.array([[5, 6], [7, 8]])\n",
    "arr = np.concatenate((arr1, arr2), axis=1)\n",
    "print(arr)\n",
    "\n",
    "\n",
    "arr1 = np.array([1, 2, 3])\n",
    "arr2 = np.array([4, 5, 6])\n",
    "\n",
    "arr = np.stack((arr1, arr2), axis=1)\n",
    "print(arr)\n",
    "arr = np.hstack((arr1, arr2))\n",
    "print(arr)\n",
    "arr = np.vstack((arr1, arr2))\n",
    "print(arr)\n",
    "\n",
    "arr = np.dstack((arr1, arr2))\n",
    "print(arr)"
   ]
  },
  {
   "cell_type": "markdown",
   "id": "ae5b89e6",
   "metadata": {},
   "source": [
    "**Splitting NumPy Arrays**\n",
    "Splitting is reverse operation of Joining.\n",
    "\n",
    "Joining merges multiple arrays into one and Splitting breaks one array into multiple.\n",
    "\n",
    "We use **array_split()** for splitting arrays, we pass it the array we want to split and the number of splits.\n",
    "\n",
    "Note: The return value is a list containing three arrays.\n",
    "\n",
    "If the array has less elements than required, it will adjust from the end accordingly.\n",
    "\n",
    "**Note**: We also have the method split() available but it will not adjust the elements when elements are less in source array for splitting like in example above, array_split() worked properly but split() would fail.\n"
   ]
  },
  {
   "cell_type": "code",
   "execution_count": 75,
   "id": "22e420d4",
   "metadata": {},
   "outputs": [
    {
     "name": "stdout",
     "output_type": "stream",
     "text": [
      "[array([1]), array([2]), array([3]), array([4]), array([5]), array([6]), array([], dtype=int32)]\n",
      "[array([[1, 2],\n",
      "       [3, 4]]), array([[5, 6],\n",
      "       [7, 8]]), array([[ 9, 10],\n",
      "       [11, 12]])]\n",
      "[array([[ 1],\n",
      "       [ 3],\n",
      "       [ 5],\n",
      "       [ 7],\n",
      "       [ 9],\n",
      "       [11]]), array([[ 2],\n",
      "       [ 4],\n",
      "       [ 6],\n",
      "       [ 8],\n",
      "       [10],\n",
      "       [12]]), array([], shape=(6, 0), dtype=int32)]\n"
     ]
    }
   ],
   "source": [
    "arr = np.array([1, 2, 3, 4, 5, 6])\n",
    "\n",
    "newarr = np.array_split(arr, 7)\n",
    "print(newarr)\n",
    "\n",
    "arr = np.array([[1, 2], [3, 4], [5, 6], [7, 8], [9, 10], [11, 12]])\n",
    "newarr = np.array_split(arr, 3)\n",
    "print(newarr)\n",
    "newarr = np.array_split(arr, 3, axis=1)\n",
    "print(newarr)"
   ]
  },
  {
   "cell_type": "markdown",
   "id": "7c942930",
   "metadata": {},
   "source": [
    "**To search an array, use the where() method.**\n",
    "\n",
    "You can search an array for a certain value, and return the indexes that get a match.\n",
    "\n",
    "There is a method called `searchsorted()` which performs a binary search in the array, and returns the index where the specified value would be inserted to maintain the search order.\n",
    "\n",
    "The `searchsorted()` method is assumed to be used on sorted arrays.\n"
   ]
  },
  {
   "cell_type": "code",
   "execution_count": 77,
   "id": "38232443",
   "metadata": {},
   "outputs": [
    {
     "name": "stdout",
     "output_type": "stream",
     "text": [
      "(array([3, 5, 6], dtype=int64),)\n",
      "(array([1, 3, 5, 6], dtype=int64),)\n",
      "1\n",
      "2\n",
      "[0 0 0]\n"
     ]
    }
   ],
   "source": [
    "arr = np.array([1, 2, 3, 4, 5, 4, 4])\n",
    "\n",
    "x = np.where(arr == 4)\n",
    "print(x)\n",
    "\n",
    "x = np.where(arr%2 == 0)\n",
    "print(x)\n",
    "\n",
    "\n",
    "arr = np.array([6, 7, 8, 9])\n",
    "\n",
    "x = np.searchsorted(arr, 7)\n",
    "print(x)\n",
    "\n",
    "x = np.searchsorted(arr, 7, side='right')\n",
    "print(x)\n",
    "\n",
    "x = np.searchsorted(arr, [2, 4, 6])\n",
    "print(x)"
   ]
  },
  {
   "cell_type": "code",
   "execution_count": null,
   "id": "4ba9aa59",
   "metadata": {},
   "outputs": [],
   "source": []
  }
 ],
 "metadata": {
  "kernelspec": {
   "display_name": "Python 3 (ipykernel)",
   "language": "python",
   "name": "python3"
  },
  "language_info": {
   "codemirror_mode": {
    "name": "ipython",
    "version": 3
   },
   "file_extension": ".py",
   "mimetype": "text/x-python",
   "name": "python",
   "nbconvert_exporter": "python",
   "pygments_lexer": "ipython3",
   "version": "3.10.9"
  }
 },
 "nbformat": 4,
 "nbformat_minor": 5
}
